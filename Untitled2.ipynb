{
  "nbformat": 4,
  "nbformat_minor": 0,
  "metadata": {
    "colab": {
      "provenance": [],
      "authorship_tag": "ABX9TyNX3+N0kB85C2EG+ZnUWPPU",
      "include_colab_link": true
    },
    "kernelspec": {
      "name": "python3",
      "display_name": "Python 3"
    },
    "language_info": {
      "name": "python"
    }
  },
  "cells": [
    {
      "cell_type": "markdown",
      "metadata": {
        "id": "view-in-github",
        "colab_type": "text"
      },
      "source": [
        "<a href=\"https://colab.research.google.com/github/MykoChan123/AdvancePredictiveAnalytiics/blob/main/Untitled2.ipynb\" target=\"_parent\"><img src=\"https://colab.research.google.com/assets/colab-badge.svg\" alt=\"Open In Colab\"/></a>"
      ]
    },
    {
      "cell_type": "code",
      "source": [
        "# Importing NumPy and Pandas\n",
        "import numpy as np\n",
        "import pandas as pd\n",
        "\n",
        "\n",
        "list = np.array([['Myko', 'Chan'],['Melanie', 'Foronda']])\n",
        "df = pd.DataFrame(list, columns=['Name', 'LastName'])"
      ],
      "metadata": {
        "id": "-Jf7ER47xQJm"
      },
      "execution_count": null,
      "outputs": []
    },
    {
      "cell_type": "code",
      "source": [
        "print(list)"
      ],
      "metadata": {
        "colab": {
          "base_uri": "https://localhost:8080/"
        },
        "id": "Y0U-bUbiytS0",
        "outputId": "39658bec-23da-4779-e1b7-a3facc787f0d"
      },
      "execution_count": null,
      "outputs": [
        {
          "output_type": "stream",
          "name": "stdout",
          "text": [
            "[['Myko' 'Melanie']\n",
            " ['Chan' 'Foronda']]\n"
          ]
        }
      ]
    },
    {
      "cell_type": "code",
      "source": [
        "print(df)"
      ],
      "metadata": {
        "colab": {
          "base_uri": "https://localhost:8080/"
        },
        "id": "Z_uNn8aDyyLc",
        "outputId": "f475ad41-9bc6-46b5-ad3b-07819a926d7c"
      },
      "execution_count": null,
      "outputs": [
        {
          "output_type": "stream",
          "name": "stdout",
          "text": [
            "      Name LastName\n",
            "0     Myko     Chan\n",
            "1  Melanie  Foronda\n"
          ]
        }
      ]
    },
    {
      "cell_type": "code",
      "source": [
        "ones = np.ones((0,10))\n",
        "print(ones)"
      ],
      "metadata": {
        "colab": {
          "base_uri": "https://localhost:8080/"
        },
        "id": "b41E2fDPzNbQ",
        "outputId": "d4288af9-838d-4bbf-a3a7-d50e8d44d3e0"
      },
      "execution_count": null,
      "outputs": [
        {
          "output_type": "stream",
          "name": "stdout",
          "text": [
            "[]\n"
          ]
        }
      ]
    },
    {
      "cell_type": "code",
      "source": [
        "range_array = np.arange(0 ,10000 , 12,)\n",
        "print(range_array)"
      ],
      "metadata": {
        "id": "QznovLNzznGG"
      },
      "execution_count": null,
      "outputs": []
    },
    {
      "cell_type": "code",
      "source": [],
      "metadata": {
        "id": "FH1g9K1aHnIr"
      },
      "execution_count": null,
      "outputs": []
    }
  ]
}